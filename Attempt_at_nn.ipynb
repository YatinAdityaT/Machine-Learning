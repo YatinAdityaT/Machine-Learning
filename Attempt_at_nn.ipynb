{
 "cells": [
  {
   "cell_type": "code",
   "execution_count": 77,
   "metadata": {},
   "outputs": [],
   "source": [
    "import numpy as np\n",
    "import pandas as pd\n"
   ]
  },
  {
   "cell_type": "code",
   "execution_count": 78,
   "metadata": {
    "scrolled": true
   },
   "outputs": [],
   "source": [
    "iris =  pd.read_csv(\"/home/yatin/Downloads/IRIS.csv\")\n",
    "iris = iris.sample(frac=1).reset_index(drop=True) # Shuffle"
   ]
  },
  {
   "cell_type": "code",
   "execution_count": 79,
   "metadata": {},
   "outputs": [],
   "source": [
    "# iris"
   ]
  },
  {
   "cell_type": "code",
   "execution_count": 80,
   "metadata": {},
   "outputs": [],
   "source": [
    "X = iris[[\"sepal_length\",\"sepal_width\",\"petal_length\",\"petal_width\"]]\n",
    "X = np.array(X)\n",
    "# X.shape"
   ]
  },
  {
   "cell_type": "code",
   "execution_count": 81,
   "metadata": {},
   "outputs": [],
   "source": [
    "from sklearn.preprocessing import OneHotEncoder\n",
    "one_hot_encoder = OneHotEncoder(sparse=False)\n",
    "\n",
    "Y = iris.species\n",
    "Y = one_hot_encoder.fit_transform(np.array(Y).reshape(-1, 1))\n",
    "# Y"
   ]
  },
  {
   "cell_type": "code",
   "execution_count": 82,
   "metadata": {},
   "outputs": [
    {
     "name": "stdout",
     "output_type": "stream",
     "text": [
      "X_train.shape (4, 120) \n",
      "Y_train.shape (3, 120) \n",
      "X_test (4, 30) \n",
      "Y_test (3, 30)\n"
     ]
    }
   ],
   "source": [
    "from sklearn.model_selection import train_test_split\n",
    "X_train, X_test, Y_train, Y_test = train_test_split(X, Y, test_size=0.20)\n",
    "X_train=X_train.reshape(4,120)\n",
    "Y_train=Y_train.reshape(3,120)\n",
    "X_test=X_test.reshape(4,30)\n",
    "Y_test=Y_test.reshape(3,30)\n",
    "print(\"X_train.shape\",X_train.shape,\"\\nY_train.shape\",Y_train.shape,\"\\nX_test\",X_test.shape,\"\\nY_test\",Y_test.shape)"
   ]
  },
  {
   "cell_type": "code",
   "execution_count": 83,
   "metadata": {},
   "outputs": [],
   "source": [
    "def initialize_parameters(layers_dims, print_shapes = False):\n",
    "    \n",
    "    L = len(layers_dims)\n",
    "    parameters ={}\n",
    "    \n",
    "    for i in range(1,L) :\n",
    "        parameters['W'+ str(i)] = np.random.rand(layers_dims[i],layers_dims[i-1])*0.01\n",
    "        parameters['b'+ str(i)] = np.zeros((layers_dims[i],1))\n",
    "        \n",
    "    if print_shapes :\n",
    "        initialize_parameters_print_shapes(parameters)\n",
    "                \n",
    "    return parameters        "
   ]
  },
  {
   "cell_type": "code",
   "execution_count": 84,
   "metadata": {},
   "outputs": [],
   "source": [
    "def initialize_parameters_print_shapes(parameters):\n",
    "        print('W'+ str(i),parameters['W'+ str(i)].shape)\n",
    "        print('b'+ str(i),parameters['b'+ str(i)].shape)"
   ]
  },
  {
   "cell_type": "code",
   "execution_count": 85,
   "metadata": {},
   "outputs": [],
   "source": [
    "def relu(Z):\n",
    "    A = np.maximum(Z,0,Z)\n",
    "    return A\n",
    "\n",
    "def sigmoid(Z):\n",
    "    A = 1/(1+np.exp(-Z))\n",
    "    return A"
   ]
  },
  {
   "cell_type": "code",
   "execution_count": 86,
   "metadata": {},
   "outputs": [],
   "source": [
    "def forward_propogation(X,parameters,layers_dims):\n",
    "    \n",
    "    L = len(layers_dims)\n",
    "    A_prev = X\n",
    "    \n",
    "    for i in range(1,L):\n",
    "        parameters ['Z'+ str(i)] = np.dot(parameters ['W'+ str(i)],A_prev) + parameters ['b'+ str(i)]\n",
    "        parameters ['A'+ str(i)] = relu(parameters ['Z'+ str(i)])\n",
    "        A_prev = parameters ['A'+ str(i)]\n",
    "    \n",
    "    parameters ['AL'] = parameters.pop('A4') \n",
    "    \n",
    "    return parameters ['AL'] ,parameters"
   ]
  },
  {
   "cell_type": "code",
   "execution_count": 87,
   "metadata": {},
   "outputs": [],
   "source": [
    "# layers_dims = [3,5,4,2,1]\n",
    "# parameters = initialize_parameters(layers_dims,print_par=False)\n",
    "# X = np.random.rand(3,40)\n",
    "# AL,cache = forward_propogation(X,parameters)\n",
    "# print(cache)"
   ]
  },
  {
   "cell_type": "code",
   "execution_count": 88,
   "metadata": {},
   "outputs": [],
   "source": [
    "def compute_cost(Y,AL):\n",
    "    m = Y.shape[1]\n",
    "    cost = (-1/m)*np.sum(np.multiply(Y,np.log(AL),np.multiply(1-Y,np.log(1-AL))))\n",
    "    return(cost)"
   ]
  },
  {
   "cell_type": "code",
   "execution_count": 89,
   "metadata": {},
   "outputs": [],
   "source": [
    "# Y = np.random.rand(2,2)\n",
    "# AL = np.random.rand(2,2)\n",
    "# cost=compute_cost(Y,AL)\n",
    "# print(cost)"
   ]
  },
  {
   "cell_type": "markdown",
   "metadata": {},
   "source": [
    "$\\delta Z = (\\frac{-Y}{AL} - \\frac{1-Y}{1-AL})\\times\\sigma\\prime(Z)  =  \\delta A\\times\\sigma\\prime(Z) $"
   ]
  },
  {
   "cell_type": "code",
   "execution_count": 90,
   "metadata": {},
   "outputs": [],
   "source": [
    "def sigmoid_backwards(cache):\n",
    "    return sigmoid(cache)*(1-sigmoid(cache))\n",
    "    \n",
    "def relu_backwards(Z,dA):\n",
    "    dZ = np.array(dA, copy=True) \n",
    "    dZ[Z <= 0] = 0\n",
    "    return dZ"
   ]
  },
  {
   "cell_type": "markdown",
   "metadata": {},
   "source": [
    "\n",
    "$\\large\\delta A^{[l]} = (\\frac{-Y}{AL} - \\frac{1-Y}{1-AL})$\n",
    "\n",
    "$\\large\\delta Z^{[l]} =  \\delta A\\times\\sigma\\prime(Z) $\n",
    "\n",
    "$\\large\\delta W^{[l]} =  \\frac {1}{m}\\sum _{i=1}^{m}\\delta Z\\times A^{[l-1]T}$\n",
    "\n",
    "$\\large\\delta b^{[l]} = \\frac {1}{m}\\sum _{i=1}^{m}\\delta Z$\n",
    "\n",
    "$\\large\\delta A^{[l-1]} = W^{[l]T} dZ^{[l]}$"
   ]
  },
  {
   "cell_type": "code",
   "execution_count": 91,
   "metadata": {},
   "outputs": [],
   "source": [
    "def backpropogation(layers_dims,parameters,AL,Y,X,print_shapes = False):\n",
    "    caches = {}\n",
    "    m = Y.shape[1]\n",
    "    L = len(layers_dims)\n",
    "    flag = True\n",
    "    parameters['A' + str(0)] = X\n",
    "    for l in reversed(range(1,L)):\n",
    "        \n",
    "        if (flag) :   \n",
    "            caches['dAL'] = np.divide(-Y,AL)+np.divide(1-Y,1-AL)                               \n",
    "            caches['dZ'+ str(l)] = caches['dAL']*sigmoid_backwards(parameters['Z'+ str(l)])    \n",
    "            caches['dW'+ str(l)] = (1/m)*np.dot(caches['dZ'+ str(l)],parameters['A' + str(l-1)].T)          \n",
    "            caches['db'+ str(l)] = (1/m)*np.sum(caches['dZ'+ str(l)],axis=1,keepdims=True)     \n",
    "            caches['dA' + str(l-1)] = np.dot(parameters['W'+ str(l)].T,caches['dZ' + str(l)])\n",
    "            flag = False\n",
    "        else:\n",
    "            caches['dZ'+ str(l)] = caches['dA' + str(l)]*relu_backwards(parameters['Z'+ str(l)],caches['dA'+ str(l)])\n",
    "            caches['dW'+ str(l)] = (1/m)*np.dot(caches['dZ'+ str(l)],parameters['A' + str(l-1)].T)\n",
    "            caches['db'+ str(l)] = (1/m)*np.sum(caches['dZ'+ str(l)],axis=1,keepdims=True)\n",
    "            if (l-1 != 0) :\n",
    "                caches['dA' + str(l-1)] = np.dot(parameters['W' + str(l)].T,caches['dZ' + str(l)]) \n",
    "                \n",
    "    if print_shapes :\n",
    "        backpropogation_print_shapes(caches)\n",
    "    \n",
    "    return caches"
   ]
  },
  {
   "cell_type": "code",
   "execution_count": 92,
   "metadata": {},
   "outputs": [],
   "source": [
    "def backpropogation_print_shapes(caches):\n",
    "    print ('dAL',caches['dAL'].shape)\n",
    "    for l in range(1,L):\n",
    "        print(\"dZ\"+ str(l),caches['dZ'+ str(l)].shape)\n",
    "        print(\"dW\"+ str(l),caches['dW'+ str(l)].shape)\n",
    "        print(\"db\"+ str(l),caches['db'+ str(l)].shape)\n",
    "        if (l-1 != 0) :\n",
    "            print('dA' + str(l-1),caches['dA' + str(l-1)].shape)"
   ]
  },
  {
   "cell_type": "code",
   "execution_count": 93,
   "metadata": {},
   "outputs": [],
   "source": [
    "# layers_dims = [3,5,4,2,1]\n",
    "# parameters = initialize_parameters(layers_dims,print_par=False)\n",
    "# X = np.random.rand(3,40)\n",
    "# Y = np.random.rand(1,40)\n",
    "# AL,cache = forward_propogation(X,parameters)\n",
    "# caches = backpropogation(layers_dims,cache,AL,Y,X)\n",
    "# # print(caches)"
   ]
  },
  {
   "cell_type": "markdown",
   "metadata": {},
   "source": [
    "$$ W^{[l]} = W^{[l]} - \\alpha \\text{ } dW^{[l]} \\tag{16}$$\n",
    "$$ b^{[l]} = b^{[l]} - \\alpha \\text{ } db^{[l]} \\tag{17}$$"
   ]
  },
  {
   "cell_type": "code",
   "execution_count": 94,
   "metadata": {},
   "outputs": [],
   "source": [
    "def update_parameters(parameters,caches,alpha,L):\n",
    "    for l in range(L-1):\n",
    "        parameters['W'+ str(l+1)] = parameters['W'+ str(l+1)] - alpha * caches['dW'+ str(l+1)]\n",
    "        parameters['W'+ str(l+1)] = parameters['W'+ str(l+1)] - alpha * caches['dW'+ str(l+1)]\n",
    "    return parameters"
   ]
  },
  {
   "cell_type": "code",
   "execution_count": 95,
   "metadata": {},
   "outputs": [],
   "source": [
    "# cache_updated = update_parameters(cache,caches,0.01)\n",
    "# # print(cache_updated)"
   ]
  },
  {
   "cell_type": "code",
   "execution_count": 96,
   "metadata": {},
   "outputs": [],
   "source": [
    "def predict(X, Y, parameters,layers_dims):\n",
    "    m = X.shape[1]\n",
    "    n = len(layers_dims)  \n",
    "    p = np.zeros(Y.shape)\n",
    "    probas, caches = forward_propogation(X, parameters,layers_dims)\n",
    "    \n",
    "    _max = probas[0][0]  \n",
    "    for i in range(0, probas.shape[1]):\n",
    "        for j in range(0,probas.shape[0]):\n",
    "            if (probas[i][j] > _max):\n",
    "                p, _max = j,probas[i][j]\n",
    "        for k in range(0,probas.shape[0]):   \n",
    "            if (k == p) :\n",
    "                probas[i][k] = 1\n",
    "            else :\n",
    "                probas[i][k] = 0\n",
    "            \n",
    "    print(\"Accuracy: \"  + str(np.sum((p == Y)/m)))\n",
    "        \n",
    "    return p"
   ]
  },
  {
   "cell_type": "code",
   "execution_count": 100,
   "metadata": {},
   "outputs": [],
   "source": [
    "def nn( X, Y, layers_dims, iterations,alpha, print_cost= False):\n",
    "    parameters = initialize_parameters(layers_dims, print_shapes = False)\n",
    "    costs = []\n",
    "    for i in range(1,iterations):\n",
    "        \n",
    "        AL ,caches = forward_propogation(X,parameters,layers_dims)\n",
    "        cost = compute_cost(Y,AL)\n",
    "        caches = backpropogation(layers_dims,parameters,AL,Y,X,print_shapes = False)\n",
    "        parameters = update_parameters(parameters,caches,alpha,len(layers_dims))\n",
    "        \n",
    "        if print_cost and i % 100 == 0:\n",
    "            print (\"Cost after iteration %i: %f\" %(i, cost))\n",
    "        if print_cost and i % 100 == 0:\n",
    "            costs.append(cost)\n",
    "    p = predict(X, Y, parameters,layers_dims)\n",
    "    return p"
   ]
  },
  {
   "cell_type": "code",
   "execution_count": 101,
   "metadata": {},
   "outputs": [
    {
     "name": "stderr",
     "output_type": "stream",
     "text": [
      "/home/yatin/anaconda3/lib/python3.7/site-packages/ipykernel_launcher.py:3: RuntimeWarning: divide by zero encountered in log\n",
      "  This is separate from the ipykernel package so we can avoid doing imports until\n",
      "/home/yatin/anaconda3/lib/python3.7/site-packages/ipykernel_launcher.py:3: RuntimeWarning: invalid value encountered in multiply\n",
      "  This is separate from the ipykernel package so we can avoid doing imports until\n",
      "/home/yatin/anaconda3/lib/python3.7/site-packages/ipykernel_launcher.py:10: RuntimeWarning: divide by zero encountered in true_divide\n",
      "  # Remove the CWD from sys.path while we load stuff.\n",
      "/home/yatin/anaconda3/lib/python3.7/site-packages/ipykernel_launcher.py:10: RuntimeWarning: invalid value encountered in true_divide\n",
      "  # Remove the CWD from sys.path while we load stuff.\n",
      "/home/yatin/anaconda3/lib/python3.7/site-packages/ipykernel_launcher.py:17: RuntimeWarning: invalid value encountered in multiply\n",
      "/home/yatin/anaconda3/lib/python3.7/site-packages/ipykernel_launcher.py:6: RuntimeWarning: invalid value encountered in less_equal\n",
      "  \n"
     ]
    },
    {
     "ename": "ValueError",
     "evalue": "The truth value of an array with more than one element is ambiguous. Use a.any() or a.all()",
     "output_type": "error",
     "traceback": [
      "\u001b[0;31m---------------------------------------------------------------------------\u001b[0m",
      "\u001b[0;31mValueError\u001b[0m                                Traceback (most recent call last)",
      "\u001b[0;32m<ipython-input-101-de8f7f2707a4>\u001b[0m in \u001b[0;36m<module>\u001b[0;34m\u001b[0m\n\u001b[1;32m      1\u001b[0m \u001b[0mlayers_dims\u001b[0m \u001b[0;34m=\u001b[0m \u001b[0;34m[\u001b[0m\u001b[0mX_train\u001b[0m\u001b[0;34m.\u001b[0m\u001b[0mshape\u001b[0m\u001b[0;34m[\u001b[0m\u001b[0;36m0\u001b[0m\u001b[0;34m]\u001b[0m\u001b[0;34m,\u001b[0m\u001b[0;36m5\u001b[0m\u001b[0;34m,\u001b[0m\u001b[0;36m4\u001b[0m\u001b[0;34m,\u001b[0m\u001b[0;36m2\u001b[0m\u001b[0;34m,\u001b[0m\u001b[0mY_train\u001b[0m\u001b[0;34m.\u001b[0m\u001b[0mshape\u001b[0m\u001b[0;34m[\u001b[0m\u001b[0;36m0\u001b[0m\u001b[0;34m]\u001b[0m\u001b[0;34m]\u001b[0m\u001b[0;34m\u001b[0m\u001b[0;34m\u001b[0m\u001b[0m\n\u001b[0;32m----> 2\u001b[0;31m \u001b[0mp\u001b[0m \u001b[0;34m=\u001b[0m \u001b[0mnn\u001b[0m\u001b[0;34m(\u001b[0m \u001b[0mX_train\u001b[0m\u001b[0;34m,\u001b[0m \u001b[0mY_train\u001b[0m\u001b[0;34m,\u001b[0m \u001b[0mlayers_dims\u001b[0m\u001b[0;34m,\u001b[0m \u001b[0;36m1500\u001b[0m\u001b[0;34m,\u001b[0m\u001b[0;36m0.01\u001b[0m\u001b[0;34m,\u001b[0m \u001b[0mprint_cost\u001b[0m\u001b[0;34m=\u001b[0m \u001b[0;32mFalse\u001b[0m\u001b[0;34m)\u001b[0m\u001b[0;34m\u001b[0m\u001b[0;34m\u001b[0m\u001b[0m\n\u001b[0m",
      "\u001b[0;32m<ipython-input-100-5d860b7bc78f>\u001b[0m in \u001b[0;36mnn\u001b[0;34m(X, Y, layers_dims, iterations, alpha, print_cost)\u001b[0m\n\u001b[1;32m     13\u001b[0m         \u001b[0;32mif\u001b[0m \u001b[0mprint_cost\u001b[0m \u001b[0;32mand\u001b[0m \u001b[0mi\u001b[0m \u001b[0;34m%\u001b[0m \u001b[0;36m100\u001b[0m \u001b[0;34m==\u001b[0m \u001b[0;36m0\u001b[0m\u001b[0;34m:\u001b[0m\u001b[0;34m\u001b[0m\u001b[0;34m\u001b[0m\u001b[0m\n\u001b[1;32m     14\u001b[0m             \u001b[0mcosts\u001b[0m\u001b[0;34m.\u001b[0m\u001b[0mappend\u001b[0m\u001b[0;34m(\u001b[0m\u001b[0mcost\u001b[0m\u001b[0;34m)\u001b[0m\u001b[0;34m\u001b[0m\u001b[0;34m\u001b[0m\u001b[0m\n\u001b[0;32m---> 15\u001b[0;31m     \u001b[0mp\u001b[0m \u001b[0;34m=\u001b[0m \u001b[0mpredict\u001b[0m\u001b[0;34m(\u001b[0m\u001b[0mX\u001b[0m\u001b[0;34m,\u001b[0m \u001b[0mY\u001b[0m\u001b[0;34m,\u001b[0m \u001b[0mparameters\u001b[0m\u001b[0;34m,\u001b[0m\u001b[0mlayers_dims\u001b[0m\u001b[0;34m)\u001b[0m\u001b[0;34m\u001b[0m\u001b[0;34m\u001b[0m\u001b[0m\n\u001b[0m\u001b[1;32m     16\u001b[0m     \u001b[0;32mreturn\u001b[0m \u001b[0mp\u001b[0m\u001b[0;34m\u001b[0m\u001b[0;34m\u001b[0m\u001b[0m\n",
      "\u001b[0;32m<ipython-input-96-a0c2ddcebac4>\u001b[0m in \u001b[0;36mpredict\u001b[0;34m(X, Y, parameters, layers_dims)\u001b[0m\n\u001b[1;32m     11\u001b[0m                 \u001b[0mp\u001b[0m\u001b[0;34m,\u001b[0m \u001b[0m_max\u001b[0m \u001b[0;34m=\u001b[0m \u001b[0mj\u001b[0m\u001b[0;34m,\u001b[0m\u001b[0mprobas\u001b[0m\u001b[0;34m[\u001b[0m\u001b[0mi\u001b[0m\u001b[0;34m]\u001b[0m\u001b[0;34m[\u001b[0m\u001b[0mj\u001b[0m\u001b[0;34m]\u001b[0m\u001b[0;34m\u001b[0m\u001b[0;34m\u001b[0m\u001b[0m\n\u001b[1;32m     12\u001b[0m         \u001b[0;32mfor\u001b[0m \u001b[0mk\u001b[0m \u001b[0;32min\u001b[0m \u001b[0mrange\u001b[0m\u001b[0;34m(\u001b[0m\u001b[0;36m0\u001b[0m\u001b[0;34m,\u001b[0m\u001b[0mprobas\u001b[0m\u001b[0;34m.\u001b[0m\u001b[0mshape\u001b[0m\u001b[0;34m[\u001b[0m\u001b[0;36m0\u001b[0m\u001b[0;34m]\u001b[0m\u001b[0;34m)\u001b[0m\u001b[0;34m:\u001b[0m\u001b[0;34m\u001b[0m\u001b[0;34m\u001b[0m\u001b[0m\n\u001b[0;32m---> 13\u001b[0;31m             \u001b[0;32mif\u001b[0m \u001b[0;34m(\u001b[0m\u001b[0mk\u001b[0m \u001b[0;34m==\u001b[0m \u001b[0mp\u001b[0m\u001b[0;34m)\u001b[0m \u001b[0;34m:\u001b[0m\u001b[0;34m\u001b[0m\u001b[0;34m\u001b[0m\u001b[0m\n\u001b[0m\u001b[1;32m     14\u001b[0m                 \u001b[0mprobas\u001b[0m\u001b[0;34m[\u001b[0m\u001b[0mi\u001b[0m\u001b[0;34m]\u001b[0m\u001b[0;34m[\u001b[0m\u001b[0mk\u001b[0m\u001b[0;34m]\u001b[0m \u001b[0;34m=\u001b[0m \u001b[0;36m1\u001b[0m\u001b[0;34m\u001b[0m\u001b[0;34m\u001b[0m\u001b[0m\n\u001b[1;32m     15\u001b[0m             \u001b[0;32melse\u001b[0m \u001b[0;34m:\u001b[0m\u001b[0;34m\u001b[0m\u001b[0;34m\u001b[0m\u001b[0m\n",
      "\u001b[0;31mValueError\u001b[0m: The truth value of an array with more than one element is ambiguous. Use a.any() or a.all()"
     ]
    }
   ],
   "source": [
    "layers_dims = [X_train.shape[0],5,4,2,Y_train.shape[0]]\n",
    "p = nn( X_train, Y_train, layers_dims, 1500,0.01, print_cost= False)"
   ]
  }
 ],
 "metadata": {
  "kernelspec": {
   "display_name": "Python 3",
   "language": "python",
   "name": "python3"
  },
  "language_info": {
   "codemirror_mode": {
    "name": "ipython",
    "version": 3
   },
   "file_extension": ".py",
   "mimetype": "text/x-python",
   "name": "python",
   "nbconvert_exporter": "python",
   "pygments_lexer": "ipython3",
   "version": "3.7.3"
  }
 },
 "nbformat": 4,
 "nbformat_minor": 2
}
